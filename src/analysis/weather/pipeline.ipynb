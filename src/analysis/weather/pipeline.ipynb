{
 "cells": [
  {
   "cell_type": "code",
   "execution_count": 1,
   "metadata": {},
   "outputs": [
    {
     "name": "stderr",
     "output_type": "stream",
     "text": [
      "23/12/28 17:36:46 WARN Utils: Your hostname, neivekim76.local resolves to a loopback address: 127.0.0.1; using 172.30.1.27 instead (on interface en0)\n",
      "23/12/28 17:36:46 WARN Utils: Set SPARK_LOCAL_IP if you need to bind to another address\n",
      "Setting default log level to \"WARN\".\n",
      "To adjust logging level use sc.setLogLevel(newLevel). For SparkR, use setLogLevel(newLevel).\n",
      "23/12/28 17:36:47 WARN NativeCodeLoader: Unable to load native-hadoop library for your platform... using builtin-java classes where applicable\n"
     ]
    }
   ],
   "source": [
    "from pyspark.sql import SparkSession\n",
    "from pyspark.ml import Pipeline\n",
    "from pyspark.ml.feature import VectorAssembler, StandardScaler\n",
    "from pyspark.ml.regression import RandomForestRegressor\n",
    "import os\n",
    "import sys\n",
    "os.environ['PYSPARK_PYTHON'] = sys.executable\n",
    "os.environ['PYSPARK_DRIVER_PYTHON'] = sys.executable\n",
    "\n",
    "# Spark 세션 생성\n",
    "spark = SparkSession.builder.appName(\"example\").master(\"spark://neivekim76.local:7077\").getOrCreate()"
   ]
  },
  {
   "cell_type": "code",
   "execution_count": 8,
   "metadata": {},
   "outputs": [],
   "source": [
    "# 예제 데이터 생성 (데이터프레임으로 가정)\n",
    "data = [(1.0, 2.0, 3.0), (4.0, 5.0, 6.0), (7.0, 8.0, 9.0), (7.0, 8.0, 9.0), (7.0, 8.0, 9.0), (7.0, 8.0, 9.0), (7.0, 8.0, 9.0) ,(7.0, 8.0, 2.0), (7.0, 0.0, 9.0)\n",
    "        , (3.0, 8.0, 9.0), (5.0, 8.0, 9.0), (7.0, 3.0, 9.0), (7.0, 0.0, 2.0), (7.0, 8.0, 6.0), (5.0, 8.0, 9.0), (7.0, 8.0, 9.0), (7.0, 8.0, 9.0), (0.0, 8.0, 9.0)\n",
    "        , (3.0, 8.0, 9.0), (9.0, 8.0, 9.0), (7.0, 8.0, 1.0), (1.0, 8.0, 9.0), (7.0, 8.0, 7.0), (7.0, 8.0, 9.0)]\n",
    "columns = [\"feature1\", \"feature2\", \"label\"]\n",
    "df = spark.createDataFrame(data, columns)"
   ]
  },
  {
   "cell_type": "code",
   "execution_count": 9,
   "metadata": {},
   "outputs": [],
   "source": [
    "# 데이터를 훈련 및 테스트 세트로 나누기\n",
    "train_data, test_data = df.randomSplit([0.8, 0.2], seed=123)"
   ]
  },
  {
   "cell_type": "code",
   "execution_count": 10,
   "metadata": {},
   "outputs": [],
   "source": [
    "# VectorAssembler: Feature 컬럼 생성\n",
    "feature_cols = [\"feature1\", \"feature2\"]\n",
    "vector_assembler = VectorAssembler(inputCols=feature_cols, outputCol=\"features\")\n",
    "\n",
    "# StandardScaler: Feature 컬럼 표준화\n",
    "scaler = StandardScaler(inputCol=\"features\", outputCol=\"scaled_features\", withStd=True, withMean=True)\n",
    "\n",
    "# RandomForestRegressor: 회귀 모델\n",
    "rf_regressor = RandomForestRegressor(featuresCol=\"scaled_features\", labelCol=\"label\")\n",
    "\n",
    "# 파이프라인 생성\n",
    "pipeline = Pipeline(stages=[vector_assembler, scaler, rf_regressor])"
   ]
  },
  {
   "cell_type": "code",
   "execution_count": 11,
   "metadata": {},
   "outputs": [
    {
     "name": "stderr",
     "output_type": "stream",
     "text": [
      "23/12/28 17:40:26 WARN DecisionTreeMetadata: DecisionTree reducing maxBins from 32 to 21 (= number of training instances)\n"
     ]
    }
   ],
   "source": [
    "# 파이프라인 모델 학습\n",
    "model = pipeline.fit(train_data)"
   ]
  },
  {
   "cell_type": "code",
   "execution_count": 12,
   "metadata": {},
   "outputs": [
    {
     "name": "stdout",
     "output_type": "stream",
     "text": [
      "+--------+--------+-----+---------+--------------------+-----------------+\n",
      "|feature1|feature2|label| features|     scaled_features|       prediction|\n",
      "+--------+--------+-----+---------+--------------------+-----------------+\n",
      "|     7.0|     3.0|  9.0|[7.0,3.0]|[0.60894413862755...|6.697559523809524|\n",
      "|     7.0|     8.0|  9.0|[7.0,8.0]|[0.60894413862755...| 7.55135334436805|\n",
      "|     7.0|     8.0|  7.0|[7.0,8.0]|[0.60894413862755...| 7.55135334436805|\n",
      "+--------+--------+-----+---------+--------------------+-----------------+\n",
      "\n"
     ]
    }
   ],
   "source": [
    "# 테스트 데이터에 대한 예측\n",
    "predictions = model.transform(test_data)\n",
    "\n",
    "# 예측 결과 출력\n",
    "predictions.show()"
   ]
  },
  {
   "cell_type": "code",
   "execution_count": null,
   "metadata": {},
   "outputs": [],
   "source": []
  }
 ],
 "metadata": {
  "kernelspec": {
   "display_name": "Python 3",
   "language": "python",
   "name": "python3"
  },
  "language_info": {
   "codemirror_mode": {
    "name": "ipython",
    "version": 3
   },
   "file_extension": ".py",
   "mimetype": "text/x-python",
   "name": "python",
   "nbconvert_exporter": "python",
   "pygments_lexer": "ipython3",
   "version": "3.12.0"
  },
  "orig_nbformat": 4
 },
 "nbformat": 4,
 "nbformat_minor": 2
}
