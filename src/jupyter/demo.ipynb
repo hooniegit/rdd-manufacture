{
 "cells": [
  {
   "cell_type": "code",
   "execution_count": 1,
   "metadata": {},
   "outputs": [],
   "source": [
    "from pyspark import SparkContext, SparkConf\n",
    "from pyspark.sql import SparkSession"
   ]
  },
  {
   "cell_type": "code",
   "execution_count": 2,
   "metadata": {},
   "outputs": [
    {
     "name": "stderr",
     "output_type": "stream",
     "text": [
      "23/12/07 22:11:16 WARN Utils: Your hostname, neivekim76.local resolves to a loopback address: 127.0.0.1; using 192.168.10.34 instead (on interface en0)\n",
      "23/12/07 22:11:16 WARN Utils: Set SPARK_LOCAL_IP if you need to bind to another address\n",
      "Setting default log level to \"WARN\".\n",
      "To adjust logging level use sc.setLogLevel(newLevel). For SparkR, use setLogLevel(newLevel).\n",
      "23/12/07 22:11:17 WARN NativeCodeLoader: Unable to load native-hadoop library for your platform... using builtin-java classes where applicable\n"
     ]
    }
   ],
   "source": [
    "APP_NAME = \"JOIN_RDD\"\n",
    "conf = SparkConf().setAppName(APP_NAME)\n",
    "sc = SparkContext(conf=conf)\n",
    "spark = SparkSession(sc)"
   ]
  },
  {
   "cell_type": "code",
   "execution_count": 25,
   "metadata": {},
   "outputs": [],
   "source": [
    "# rdd = sc.textFile(\"/Users/kimdohoon/git/datas/ml-latest/genome-scores.csv\") \\\n",
    "#         .map(lambda line: line.split(\",\")) \\\n",
    "#         .map(lambda row: (row[1], row[0], row[2]))\n",
    "        \n",
    "# rdd_first = rdd.first()\n",
    "\n",
    "# rdd_scores = rdd.filter(lambda x: x != rdd_first)"
   ]
  },
  {
   "cell_type": "code",
   "execution_count": 34,
   "metadata": {},
   "outputs": [
    {
     "name": "stderr",
     "output_type": "stream",
     "text": [
      "                                                                                \r"
     ]
    }
   ],
   "source": [
    "rdd_scores = spark.read.csv(\"/Users/kimdohoon/git/datas/ml-latest/genome-scores.csv\", header=True, inferSchema=True) \\\n",
    "                       .rdd \\\n",
    "                       .map(lambda row: (row[1], row[0], row[2])) \\\n",
    "                \n",
    "rdd_genome = spark.read.csv(\"/Users/kimdohoon/git/datas/ml-latest/genome-tags.csv\", header=True, inferSchema=True) \\\n",
    "                       .rdd \\\n",
    "                       .map(lambda row: (row[0], row[1])) \\\n",
    "                       .join(rdd_scores)"
   ]
  },
  {
   "cell_type": "code",
   "execution_count": 35,
   "metadata": {},
   "outputs": [
    {
     "name": "stderr",
     "output_type": "stream",
     "text": [
      "                                                                                \r"
     ]
    }
   ],
   "source": [
    "print(rdd_genome.collect())"
   ]
  },
  {
   "cell_type": "code",
   "execution_count": 31,
   "metadata": {},
   "outputs": [
    {
     "name": "stderr",
     "output_type": "stream",
     "text": [
      "                                                                                \r"
     ]
    },
    {
     "name": "stdout",
     "output_type": "stream",
     "text": [
      "+---+--------+\n",
      "| _1|      _2|\n",
      "+---+--------+\n",
      "| 11| {3d, 1}|\n",
      "| 11| {3d, 2}|\n",
      "| 11| {3d, 3}|\n",
      "| 11| {3d, 4}|\n",
      "| 11| {3d, 5}|\n",
      "| 11| {3d, 6}|\n",
      "| 11| {3d, 7}|\n",
      "| 11| {3d, 8}|\n",
      "| 11| {3d, 9}|\n",
      "| 11|{3d, 10}|\n",
      "| 11|{3d, 11}|\n",
      "| 11|{3d, 12}|\n",
      "| 11|{3d, 13}|\n",
      "| 11|{3d, 14}|\n",
      "| 11|{3d, 15}|\n",
      "| 11|{3d, 16}|\n",
      "| 11|{3d, 17}|\n",
      "| 11|{3d, 18}|\n",
      "| 11|{3d, 19}|\n",
      "| 11|{3d, 20}|\n",
      "+---+--------+\n",
      "only showing top 20 rows\n",
      "\n"
     ]
    }
   ],
   "source": [
    "df_scores = rdd_genome.toDF()\n",
    "df_scores.show()"
   ]
  },
  {
   "cell_type": "code",
   "execution_count": null,
   "metadata": {},
   "outputs": [],
   "source": [
    "rdd_2 = sc.textFile(\"/Users/kimdohoon/git/datas/ml-latest/genome-tags.csv\") \\\n",
    "        .map(lambda line: line.split(\",\")) \\\n",
    "        .map(lambda row: (row[0], row[1]))\n",
    "        \n",
    "rdd_genome = rdd_2.filter(lambda x: x != rdd_2.first())"
   ]
  },
  {
   "cell_type": "code",
   "execution_count": 13,
   "metadata": {},
   "outputs": [
    {
     "name": "stdout",
     "output_type": "stream",
     "text": [
      "+-----+---------------+\n",
      "|   _1|             _2|\n",
      "+-----+---------------+\n",
      "|tagId|            tag|\n",
      "|    1|            007|\n",
      "|    2|   007 (series)|\n",
      "|    3|   18th century|\n",
      "|    4|          1920s|\n",
      "|    5|          1930s|\n",
      "|    6|          1950s|\n",
      "|    7|          1960s|\n",
      "|    8|          1970s|\n",
      "|    9|          1980s|\n",
      "|   10|   19th century|\n",
      "|   11|             3d|\n",
      "|   12|           70mm|\n",
      "|   13|            80s|\n",
      "|   14|           9/11|\n",
      "|   15|        aardman|\n",
      "|   16|aardman studios|\n",
      "|   17|       abortion|\n",
      "|   18|         absurd|\n",
      "|   19|         action|\n",
      "+-----+---------------+\n",
      "only showing top 20 rows\n",
      "\n"
     ]
    }
   ],
   "source": [
    "df_tags = rdd_tags.toDF()\n",
    "df_tags.show()"
   ]
  }
 ],
 "metadata": {
  "kernelspec": {
   "display_name": "workspace",
   "language": "python",
   "name": "python3"
  },
  "language_info": {
   "codemirror_mode": {
    "name": "ipython",
    "version": 3
   },
   "file_extension": ".py",
   "mimetype": "text/x-python",
   "name": "python",
   "nbconvert_exporter": "python",
   "pygments_lexer": "ipython3",
   "version": "3.8.10"
  },
  "orig_nbformat": 4
 },
 "nbformat": 4,
 "nbformat_minor": 2
}
