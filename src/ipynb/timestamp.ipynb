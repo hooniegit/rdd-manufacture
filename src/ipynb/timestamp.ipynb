{
 "cells": [
  {
   "cell_type": "code",
   "execution_count": 1,
   "metadata": {},
   "outputs": [],
   "source": [
    "from pyspark.sql import SparkSession\n",
    "from pyspark.sql.functions import split"
   ]
  },
  {
   "cell_type": "code",
   "execution_count": 2,
   "metadata": {},
   "outputs": [
    {
     "name": "stderr",
     "output_type": "stream",
     "text": [
      "23/12/05 18:15:43 WARN Utils: Your hostname, neivekim76.local resolves to a loopback address: 127.0.0.1; using 172.30.33.250 instead (on interface en0)\n",
      "23/12/05 18:15:43 WARN Utils: Set SPARK_LOCAL_IP if you need to bind to another address\n",
      "Setting default log level to \"WARN\".\n",
      "To adjust logging level use sc.setLogLevel(newLevel). For SparkR, use setLogLevel(newLevel).\n",
      "23/12/05 18:15:46 WARN NativeCodeLoader: Unable to load native-hadoop library for your platform... using builtin-java classes where applicable\n",
      "23/12/05 18:15:51 WARN Utils: Service 'SparkUI' could not bind on port 4040. Attempting port 4041.\n"
     ]
    }
   ],
   "source": [
    "# build spark session\n",
    "spark = SparkSession.builder.appName(\"csv_change_timestamp\").getOrCreate()"
   ]
  },
  {
   "cell_type": "code",
   "execution_count": 3,
   "metadata": {},
   "outputs": [],
   "source": [
    "# create rdd\n",
    "data_dir = \"/Users/kimdohoon/git/datas/ml-latest/ratings.csv\"\n",
    "rdd = spark.sparkContext.textFile(data_dir).map(lambda line: line.split(',')) \\\n",
    "                                           .filter(lambda x: all(item != \"\" for item in x)) \\\n",
    "                                           .filter(lambda x: len(x) == 4)"
   ]
  },
  {
   "cell_type": "code",
   "execution_count": 4,
   "metadata": {},
   "outputs": [],
   "source": [
    "def is_int_convertible(value):\n",
    "    try:\n",
    "        int(value)\n",
    "        return True\n",
    "    except ValueError:\n",
    "        return False\n",
    "\n",
    "# rdd.filter()\n",
    "# 함수의 출력이 \"논리깂\"을 반환하도록 구성\n",
    "filtered_rdd = rdd.filter(lambda x: is_int_convertible(x[3]))"
   ]
  },
  {
   "cell_type": "code",
   "execution_count": 5,
   "metadata": {},
   "outputs": [],
   "source": [
    "def convert_timestamp(row):\n",
    "    from datetime import datetime\n",
    "    \n",
    "    timestamp = int(row[3])\n",
    "    dt_object = datetime.fromtimestamp(timestamp)\n",
    "    formatted_date = dt_object.strftime('%Y-%m-%d')\n",
    "    formatted_time = dt_object.strftime('%H:%M:%S')\n",
    "    return (row[0], row[1], row[2], formatted_date, formatted_time)  # Assuming you have other columns in the CSV\n",
    "\n",
    "# rdd.map()\n",
    "# 함수의 출력이 \"tuple\"을 반환하도록 구성\n",
    "converted_rdd = filtered_rdd.map(convert_timestamp)"
   ]
  },
  {
   "cell_type": "code",
   "execution_count": 6,
   "metadata": {},
   "outputs": [
    {
     "name": "stderr",
     "output_type": "stream",
     "text": [
      "23/12/05 18:16:29 WARN PythonRunner: Detected deadlock while completing task 0.0 in stage 1 (TID 1): Attempting to kill Python Worker\n",
      "                                                                                \r"
     ]
    },
    {
     "name": "stdout",
     "output_type": "stream",
     "text": [
      "+------+-------+------+----------+--------+\n",
      "|userId|movieId|rating|      date|    time|\n",
      "+------+-------+------+----------+--------+\n",
      "|     1|      1|   4.0|2008-11-04|02:52:19|\n",
      "|     1|    110|   4.0|2008-11-05|15:04:46|\n",
      "|     1|    158|   4.0|2008-11-04|02:31:43|\n",
      "|     1|    260|   4.5|2008-11-04|03:00:04|\n",
      "|     1|    356|   5.0|2008-11-04|02:58:39|\n",
      "|     1|    381|   3.5|2008-11-04|02:41:45|\n",
      "|     1|    596|   4.0|2008-11-04|02:32:04|\n",
      "|     1|   1036|   5.0|2008-11-04|03:07:06|\n",
      "|     1|   1049|   3.0|2008-11-04|02:41:19|\n",
      "|     1|   1066|   4.0|2008-11-04|03:29:21|\n",
      "|     1|   1196|   3.5|2008-11-04|03:04:01|\n",
      "|     1|   1200|   3.5|2008-11-04|03:11:01|\n",
      "|     1|   1210|   4.5|2008-11-04|03:00:10|\n",
      "|     1|   1214|   4.0|2008-11-04|03:20:26|\n",
      "|     1|   1291|   5.0|2008-11-04|02:53:29|\n",
      "|     1|   1293|   2.0|2008-11-04|02:37:22|\n",
      "|     1|   1376|   3.0|2008-11-04|02:32:19|\n",
      "|     1|   1396|   3.0|2008-11-04|02:32:14|\n",
      "|     1|   1537|   4.0|2008-11-04|03:24:47|\n",
      "|     1|   1909|   3.0|2008-11-04|02:35:17|\n",
      "+------+-------+------+----------+--------+\n",
      "only showing top 20 rows\n",
      "\n"
     ]
    }
   ],
   "source": [
    "# change rdd to dataframe\n",
    "column = ['userId','movieId','rating','date','time']\n",
    "df = converted_rdd.toDF(column)\n",
    "df.show()"
   ]
  }
 ],
 "metadata": {
  "kernelspec": {
   "display_name": "workspace",
   "language": "python",
   "name": "python3"
  },
  "language_info": {
   "codemirror_mode": {
    "name": "ipython",
    "version": 3
   },
   "file_extension": ".py",
   "mimetype": "text/x-python",
   "name": "python",
   "nbconvert_exporter": "python",
   "pygments_lexer": "ipython3",
   "version": "3.8.10"
  },
  "orig_nbformat": 4
 },
 "nbformat": 4,
 "nbformat_minor": 2
}
