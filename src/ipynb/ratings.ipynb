{
 "cells": [
  {
   "cell_type": "code",
   "execution_count": 17,
   "metadata": {},
   "outputs": [],
   "source": [
    "from pyspark.sql import SparkSession\n",
    "from pyspark.sql.functions import split"
   ]
  },
  {
   "cell_type": "code",
   "execution_count": 18,
   "metadata": {},
   "outputs": [],
   "source": [
    "# build spark session\n",
    "spark = SparkSession.builder.appName(\"csv_change_timestamp\").getOrCreate()"
   ]
  },
  {
   "cell_type": "code",
   "execution_count": 19,
   "metadata": {},
   "outputs": [],
   "source": [
    "# create rdd\n",
    "data_dir = \"/Users/kimdohoon/git/datas/ml-latest/ratings.csv\"\n",
    "rdd = spark.sparkContext.textFile(data_dir).map(lambda line: line.split(',')) \\\n",
    "                                           .filter(lambda x: all(item != \"\" for item in x)) \\\n",
    "                                           .filter(lambda x: len(x) == 4)"
   ]
  },
  {
   "cell_type": "code",
   "execution_count": 20,
   "metadata": {},
   "outputs": [],
   "source": [
    "def is_int_convertible(value):\n",
    "    try:\n",
    "        int(value)\n",
    "        return True\n",
    "    except ValueError:\n",
    "        return False\n",
    "\n",
    "# rdd.filter()\n",
    "# 함수의 출력이 \"논리깂\"을 반환하도록 구성\n",
    "filtered_rdd = rdd.filter(lambda x: is_int_convertible(x[3]))"
   ]
  },
  {
   "cell_type": "code",
   "execution_count": 21,
   "metadata": {},
   "outputs": [],
   "source": [
    "def convert_timestamp(row):\n",
    "    from datetime import datetime\n",
    "    \n",
    "    timestamp = int(row[3])\n",
    "    dt_object = datetime.fromtimestamp(timestamp)\n",
    "    formatted_date = dt_object.strftime('%Y-%m-%d')\n",
    "    formatted_time = dt_object.strftime('%H:%M:%S')\n",
    "    return (row[0], row[1], row[2], formatted_date, formatted_time)  # Assuming you have other columns in the CSV\n",
    "\n",
    "# rdd.map()\n",
    "# 함수의 출력이 \"tuple\"을 반환하도록 구성\n",
    "converted_rdd = filtered_rdd.map(convert_timestamp)"
   ]
  },
  {
   "cell_type": "code",
   "execution_count": 22,
   "metadata": {},
   "outputs": [],
   "source": [
    "extracted_rdd = converted_rdd.map(lambda row: (row[2], 1)) \\\n",
    "                             .reduceByKey(lambda x, y: x + y)"
   ]
  },
  {
   "cell_type": "code",
   "execution_count": null,
   "metadata": {},
   "outputs": [],
   "source": [
    "# change rdd to dataframe\n",
    "column = ['rating','count']\n",
    "df = extracted_rdd.toDF(column)\n",
    "df.show()"
   ]
  }
 ],
 "metadata": {
  "kernelspec": {
   "display_name": "workspace",
   "language": "python",
   "name": "python3"
  },
  "language_info": {
   "codemirror_mode": {
    "name": "ipython",
    "version": 3
   },
   "file_extension": ".py",
   "mimetype": "text/x-python",
   "name": "python",
   "nbconvert_exporter": "python",
   "pygments_lexer": "ipython3",
   "version": "3.8.10"
  },
  "orig_nbformat": 4
 },
 "nbformat": 4,
 "nbformat_minor": 2
}
