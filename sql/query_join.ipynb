{
 "cells": [
  {
   "cell_type": "code",
   "execution_count": 7,
   "metadata": {},
   "outputs": [],
   "source": [
    "from pyspark import SparkConf, SparkContext\n",
    "from pyspark.sql import SparkSession\n",
    "\n",
    "conf = SparkConf().setAppName(\"spark_join\")\\\n",
    "                  .setMaster(\"spark://workspace:7077\")\n",
    "sparkContext = SparkContext(conf=conf)\n",
    "spark = SparkSession(sparkContext=sparkContext)"
   ]
  },
  {
   "cell_type": "code",
   "execution_count": 2,
   "metadata": {},
   "outputs": [
    {
     "name": "stderr",
     "output_type": "stream",
     "text": [
      "                                                                                \r"
     ]
    }
   ],
   "source": [
    "csv_dir = \"file:///home/hooniegit/git/study/rdd-manufacture/data/movielens/ml-latest\"\n",
    "genome_scores = spark.read.csv(f\"{csv_dir}/genome-scores.csv\", header=True, inferSchema=True)\n",
    "genome_tags = spark.read.csv(f\"{csv_dir}/genome-tags.csv\", header=True, inferSchema=True)\n",
    "links = spark.read.csv(f\"{csv_dir}/links.csv\", header=True, inferSchema=True)\n",
    "movies = spark.read.csv(f\"{csv_dir}/movies.csv\", header=True, inferSchema=True)\n",
    "ratings = spark.read.csv(f\"{csv_dir}/ratings.csv\", header=True, inferSchema=True)\n",
    "tags = spark.read.csv(f\"{csv_dir}/tags.csv\", header=True, inferSchema=True)\n",
    "\n",
    "genome_scores.createOrReplaceTempView(\"genome_scores\")\n",
    "genome_tags.createOrReplaceTempView(\"genome_tags\")\n",
    "links.createOrReplaceTempView(\"links\")\n",
    "movies.createOrReplaceTempView(\"movies\")\n",
    "ratings.createOrReplaceTempView(\"ratings\")\n",
    "tags.createOrReplaceTempView(\"tags\")"
   ]
  },
  {
   "cell_type": "code",
   "execution_count": 3,
   "metadata": {},
   "outputs": [
    {
     "name": "stderr",
     "output_type": "stream",
     "text": [
      "[Stage 13:=====================================================>  (19 + 1) / 20]\r"
     ]
    },
    {
     "name": "stdout",
     "output_type": "stream",
     "text": [
      "+-------+--------------------+--------------------+------+-------+------+----------+\n",
      "|movieId|               title|              genres|userId|movieId|rating| timestamp|\n",
      "+-------+--------------------+--------------------+------+-------+------+----------+\n",
      "| 288983|UNZIPPED: An Auto...|         Documentary|254114| 288983|   3.0|1689834886|\n",
      "| 288977|Skinford: Death S...|      Crime|Thriller|291389| 288977|   3.0|1689815902|\n",
      "| 288975|The Men Who Made ...|         Documentary|154483| 288975|   4.0|1689812351|\n",
      "| 288971|  Ouija Japan (2021)|       Action|Horror| 98408| 288971|   0.5|1689798322|\n",
      "| 288967|State of Siege: T...|        Action|Drama| 47791| 288967|   3.5|1689748357|\n",
      "| 288965|     Камертон (1979)|             Romance|167321| 288965|   2.5|1689747309|\n",
      "| 288959|Letters Of Happin...|      Children|Drama|180878| 288959|   2.0|1689723318|\n",
      "| 288957|Ballet Of Blood (...|              Horror| 11969| 288957|   1.0|1689719936|\n",
      "| 288955|Agata's Friends (...|               Drama|308174| 288955|   2.0|1689707314|\n",
      "| 288953|The Eyes Have It ...|              Comedy|154483| 288953|   1.5|1689651150|\n",
      "| 288951|A Taste of Whale ...|         Documentary|230023| 288951|   3.5|1689713808|\n",
      "| 288949|Eldorado: Everyth...|         Documentary|327439| 288949|   0.5|1689647030|\n",
      "| 288947|The Year I Starte...|Comedy|Drama|Romance|217563| 288947|   0.5|1689618045|\n",
      "| 288945|Mr. Car and the K...|           Adventure| 61020| 288945|   1.0|1689620448|\n",
      "| 288945|Mr. Car and the K...|           Adventure|217563| 288945|   0.5|1689616599|\n",
      "| 288943|  The Mount 2 (2023)|              Horror| 87764| 288943|   1.5|1689606991|\n",
      "| 288941|Mixed Baggage (2023)|Comedy|Drama|Romance|  7644| 288941|   5.0|1689599382|\n",
      "| 288941|Mixed Baggage (2023)|Comedy|Drama|Romance| 16020| 288941|   4.5|1689573317|\n",
      "| 288939|Wedding Season (2...|      Comedy|Romance|  7644| 288939|   5.0|1689599406|\n",
      "| 288939|Wedding Season (2...|      Comedy|Romance| 16020| 288939|   3.5|1689567187|\n",
      "+-------+--------------------+--------------------+------+-------+------+----------+\n",
      "only showing top 20 rows\n",
      "\n"
     ]
    },
    {
     "name": "stderr",
     "output_type": "stream",
     "text": [
      "                                                                                \r"
     ]
    }
   ],
   "source": [
    "df_1 = spark.sql(\n",
    "    \"\"\"\n",
    "        SELECT\n",
    "            *\n",
    "        FROM\n",
    "            movies m\n",
    "        INNER JOIN\n",
    "            ratings r\n",
    "        ON\n",
    "            m.movieId = r.movieId\n",
    "        ORDER BY\n",
    "            m.movieId DESC  \n",
    "    \"\"\"\n",
    ")\n",
    "df_1.show()"
   ]
  },
  {
   "cell_type": "code",
   "execution_count": 4,
   "metadata": {},
   "outputs": [
    {
     "name": "stderr",
     "output_type": "stream",
     "text": [
      "[Stage 17:=====================>                                  (6 + 10) / 16]\r"
     ]
    },
    {
     "name": "stdout",
     "output_type": "stream",
     "text": [
      "+------------------+------+----+-----+-----+\n",
      "|           average|userId|year|month|count|\n",
      "+------------------+------+----+-----+-----+\n",
      "|               4.0|    33|2023|    7|    3|\n",
      "|              4.75|   203|2023|    7|    4|\n",
      "|               4.5|   237|2023|    7|    3|\n",
      "|               4.0|   301|2023|    7|    3|\n",
      "|              3.25|   304|2023|    7|   70|\n",
      "|               4.0|   498|2023|    7|    3|\n",
      "|              4.25|   536|2023|    7|    2|\n",
      "|3.3423423423423424|   705|2023|    7|  111|\n",
      "|               4.0|   720|2023|    7|    1|\n",
      "|3.1666666666666665|   897|2023|    7|    3|\n",
      "|               4.0|  1811|2023|    7|    2|\n",
      "|  4.43859649122807|  2038|2023|    7|   57|\n",
      "|            3.8125|  2140|2023|    7|    8|\n",
      "|3.5833333333333335|  2172|2023|    7|    6|\n",
      "|               3.8|  2270|2023|    7|    5|\n",
      "|               3.5|  2318|2023|    7|    1|\n",
      "| 4.142857142857143|  2414|2023|    7|    7|\n",
      "|               3.5|  2589|2023|    7|    3|\n",
      "|              3.25|  2651|2023|    7|    6|\n",
      "|              4.25|  2833|2023|    7|    8|\n",
      "+------------------+------+----+-----+-----+\n",
      "only showing top 20 rows\n",
      "\n"
     ]
    },
    {
     "name": "stderr",
     "output_type": "stream",
     "text": [
      "                                                                                \r"
     ]
    },
    {
     "name": "stderr",
     "output_type": "stream",
     "text": [
      "23/12/21 18:29:25 WARN StandaloneAppClient$ClientEndpoint: Connection to workspace:7077 failed; waiting for master to reconnect...\n",
      "23/12/21 18:29:25 WARN StandaloneSchedulerBackend: Disconnected from Spark cluster! Waiting for reconnection...\n",
      "23/12/21 18:29:25 WARN StandaloneAppClient$ClientEndpoint: Connection to workspace:7077 failed; waiting for master to reconnect...\n",
      "23/12/21 18:29:30 ERROR TaskSchedulerImpl: Lost executor 0 on 220.118.158.128: Remote RPC client disassociated. Likely due to containers exceeding thresholds, or network issues. Check driver logs for WARN messages.\n",
      "23/12/21 18:29:30 ERROR TaskSchedulerImpl: Lost executor 9 on 220.118.158.128: Remote RPC client disassociated. Likely due to containers exceeding thresholds, or network issues. Check driver logs for WARN messages.\n",
      "23/12/21 18:29:30 ERROR TaskSchedulerImpl: Lost executor 8 on 220.118.158.128: Remote RPC client disassociated. Likely due to containers exceeding thresholds, or network issues. Check driver logs for WARN messages.\n",
      "23/12/21 18:29:31 ERROR TaskSchedulerImpl: Lost executor 7 on 220.118.158.128: Remote RPC client disassociated. Likely due to containers exceeding thresholds, or network issues. Check driver logs for WARN messages.\n",
      "23/12/21 18:29:31 ERROR TaskSchedulerImpl: Lost executor 2 on 220.118.158.128: Remote RPC client disassociated. Likely due to containers exceeding thresholds, or network issues. Check driver logs for WARN messages.\n",
      "23/12/21 18:29:31 ERROR TaskSchedulerImpl: Lost executor 5 on 220.118.158.128: Remote RPC client disassociated. Likely due to containers exceeding thresholds, or network issues. Check driver logs for WARN messages.\n",
      "23/12/21 18:29:32 ERROR TaskSchedulerImpl: Lost executor 4 on 220.118.158.128: Remote RPC client disassociated. Likely due to containers exceeding thresholds, or network issues. Check driver logs for WARN messages.\n",
      "23/12/21 18:29:32 ERROR TaskSchedulerImpl: Lost executor 3 on 220.118.158.128: Remote RPC client disassociated. Likely due to containers exceeding thresholds, or network issues. Check driver logs for WARN messages.\n",
      "23/12/21 18:29:32 ERROR TaskSchedulerImpl: Lost executor 6 on 220.118.158.128: Remote RPC client disassociated. Likely due to containers exceeding thresholds, or network issues. Check driver logs for WARN messages.\n",
      "23/12/21 18:29:32 ERROR TaskSchedulerImpl: Lost executor 1 on 220.118.158.128: Remote RPC client disassociated. Likely due to containers exceeding thresholds, or network issues. Check driver logs for WARN messages.\n"
     ]
    }
   ],
   "source": [
    "df_2 = spark.sql(\n",
    "    \"\"\"\n",
    "        SELECT DISTINCT\n",
    "            AVG(r.rating) average,\n",
    "            r.userId,\n",
    "            YEAR(FROM_UNIXTIME(r.timestamp)) year,\n",
    "            MONTH(FROM_UNIXTIME(r.timestamp)) month,\n",
    "            COUNT(*) count\n",
    "        FROM\n",
    "            movies m\n",
    "        INNER JOIN\n",
    "            ratings r\n",
    "        ON\n",
    "            m.movieId = r.movieId\n",
    "        GROUP BY\n",
    "            year,\n",
    "            month,\n",
    "            r.userId\n",
    "        ORDER BY\n",
    "            year DESC,\n",
    "            month DESC,\n",
    "            r.userId\n",
    "    \"\"\"\n",
    ")\n",
    "df_2.show()"
   ]
  },
  {
   "cell_type": "code",
   "execution_count": 23,
   "metadata": {},
   "outputs": [
    {
     "name": "stderr",
     "output_type": "stream",
     "text": [
      "[Stage 37:======================================================> (39 + 1) / 40]\r"
     ]
    },
    {
     "name": "stdout",
     "output_type": "stream",
     "text": [
      "+------------------+------+----+-----+-----+\n",
      "|           average|userId|year|month|count|\n",
      "+------------------+------+----+-----+-----+\n",
      "|               4.0|    33|2023|    7|    3|\n",
      "|              4.75|   203|2023|    7|    4|\n",
      "|               4.5|   237|2023|    7|    3|\n",
      "|               4.0|   301|2023|    7|    3|\n",
      "|              3.25|   304|2023|    7|   70|\n",
      "|               4.0|   498|2023|    7|    3|\n",
      "|              4.25|   536|2023|    7|    2|\n",
      "|3.3423423423423424|   705|2023|    7|  111|\n",
      "|               4.0|   720|2023|    7|    1|\n",
      "|3.1666666666666665|   897|2023|    7|    3|\n",
      "|               4.0|  1811|2023|    7|    2|\n",
      "|  4.43859649122807|  2038|2023|    7|   57|\n",
      "|            3.8125|  2140|2023|    7|    8|\n",
      "|3.5833333333333335|  2172|2023|    7|    6|\n",
      "|               3.8|  2270|2023|    7|    5|\n",
      "|               3.5|  2318|2023|    7|    1|\n",
      "| 4.142857142857143|  2414|2023|    7|    7|\n",
      "|               3.5|  2589|2023|    7|    3|\n",
      "|              3.25|  2651|2023|    7|    6|\n",
      "|              4.25|  2833|2023|    7|    8|\n",
      "+------------------+------+----+-----+-----+\n",
      "only showing top 20 rows\n",
      "\n"
     ]
    },
    {
     "name": "stderr",
     "output_type": "stream",
     "text": [
      "                                                                                \r"
     ]
    }
   ],
   "source": [
    "df_3 = spark.sql(\n",
    "    \"\"\"\n",
    "        SELECT DISTINCT\n",
    "            AVG(r.rating) average,\n",
    "            r.userId,\n",
    "            YEAR(FROM_UNIXTIME(r.timestamp)) year,\n",
    "            MONTH(FROM_UNIXTIME(r.timestamp)) month,\n",
    "            COUNT(*) count\n",
    "        FROM\n",
    "            movies m, ratings r\n",
    "        WHERE\n",
    "            m.movieId = r.movieId\n",
    "        GROUP BY\n",
    "            year,\n",
    "            month,\n",
    "            r.userId\n",
    "        ORDER BY\n",
    "            year DESC,\n",
    "            month DESC,\n",
    "            r.userId\n",
    "    \"\"\"\n",
    ")\n",
    "df_3.show()"
   ]
  },
  {
   "cell_type": "code",
   "execution_count": 24,
   "metadata": {},
   "outputs": [
    {
     "name": "stderr",
     "output_type": "stream",
     "text": [
      "[Stage 44:>                                                         (0 + 1) / 1]\r"
     ]
    },
    {
     "name": "stdout",
     "output_type": "stream",
     "text": [
      "+-------+--------------------+--------------------+-------+-----+--------------------+-----+--------------------+\n",
      "|movieId|               title|              genres|movieId|tagId|           relevance|tagId|                 tag|\n",
      "+-------+--------------------+--------------------+-------+-----+--------------------+-----+--------------------+\n",
      "|    967|  Outlaw, The (1943)|             Western|    967|  727| 0.19374999999999998|  727|nudity (full fron...|\n",
      "|    968|Night of the Livi...|Horror|Sci-Fi|Thr...|    968|   25|              0.1895|   25|           addiction|\n",
      "|    968|Night of the Livi...|Horror|Sci-Fi|Thr...|    968|   65| 0.02200000000000002|   65|               anime|\n",
      "|    968|Night of the Livi...|Horror|Sci-Fi|Thr...|    968|   79|               0.272|   79|            artistic|\n",
      "|    968|Night of the Livi...|Horror|Sci-Fi|Thr...|    968|  264| 0.04949999999999999|  264|       crappy sequel|\n",
      "|    968|Night of the Livi...|Horror|Sci-Fi|Thr...|    968|  352|0.023749999999999993|  352|     ennio morricone|\n",
      "|    968|Night of the Livi...|Horror|Sci-Fi|Thr...|    968|  998|             0.81925|  998|            survival|\n",
      "|    969|African Queen, Th...|Adventure|Comedy|...|    969|  105|0.017249999999999988|  105|        bank robbery|\n",
      "|    969|African Queen, Th...|Adventure|Comedy|...|    969|  143| 0.12125000000000002|  143|               bleak|\n",
      "|    969|African Queen, Th...|Adventure|Comedy|...|    969|  162|              0.5395|  162|        breathtaking|\n",
      "|    969|African Queen, Th...|Adventure|Comedy|...|    969|  221|0.023749999999999993|  221|              clones|\n",
      "|    969|African Queen, Th...|Adventure|Comedy|...|    969|  535| 0.11625000000000002|  535|         imagination|\n",
      "|    969|African Queen, Th...|Adventure|Comedy|...|    969|  684|0.022749999999999992|  684|               music|\n",
      "|    969|African Queen, Th...|Adventure|Comedy|...|    969|  760|               0.492|  760|oscar (best writi...|\n",
      "|    969|African Queen, Th...|Adventure|Comedy|...|    969|  815|0.027500000000000024|  815|   private detective|\n",
      "|    969|African Queen, Th...|Adventure|Comedy|...|    969|  851| 0.15000000000000002|  851|          revolution|\n",
      "|    969|African Queen, Th...|Adventure|Comedy|...|    969|  930|0.049750000000000016|  930|          slow paced|\n",
      "|    969|African Queen, Th...|Adventure|Comedy|...|    969| 1058| 0.01874999999999999| 1058|unintentionally f...|\n",
      "|    969|African Queen, Th...|Adventure|Comedy|...|    969| 1075|0.009500000000000008| 1075|video game adapta...|\n",
      "|    970|Beat the Devil (1...|Adventure|Comedy|...|    970|  233|0.015749999999999986|  233| comic book adaption|\n",
      "+-------+--------------------+--------------------+-------+-----+--------------------+-----+--------------------+\n",
      "only showing top 20 rows\n",
      "\n"
     ]
    },
    {
     "name": "stderr",
     "output_type": "stream",
     "text": [
      "                                                                                \r"
     ]
    }
   ],
   "source": [
    "df_4 = spark.sql(\n",
    "    \"\"\"\n",
    "        SELECT DISTINCT\n",
    "            *\n",
    "        FROM\n",
    "            movies m\n",
    "        INNER JOIN\n",
    "            genome_scores gs\n",
    "        ON\n",
    "            m.movieId = gs.movieId\n",
    "        INNER JOIN\n",
    "            genome_tags gt\n",
    "        ON\n",
    "            gs.tagId = gt.tagId\n",
    "    \"\"\"\n",
    ")\n",
    "df_4.show()"
   ]
  },
  {
   "cell_type": "code",
   "execution_count": 30,
   "metadata": {},
   "outputs": [
    {
     "name": "stderr",
     "output_type": "stream",
     "text": [
      "[Stage 69:======================================================> (44 + 1) / 45]\r"
     ]
    },
    {
     "name": "stdout",
     "output_type": "stream",
     "text": [
      "+-------+-------------------+---------------+-----+--------------------+--------------+\n",
      "|movieId|              title|         genres|tagId|           relevance|           tag|\n",
      "+-------+-------------------+---------------+-----+--------------------+--------------+\n",
      "| 288167|Extraction 2 (2023)|Action|Thriller| 1128|             0.03025|       zombies|\n",
      "| 288167|Extraction 2 (2023)|Action|Thriller| 1127| 0.11225000000000002|        zombie|\n",
      "| 288167|Extraction 2 (2023)|Action|Thriller| 1126|0.022749999999999992|          wwii|\n",
      "| 288167|Extraction 2 (2023)|Action|Thriller| 1125|0.029500000000000026|         wuxia|\n",
      "| 288167|Extraction 2 (2023)|Action|Thriller| 1124|             0.09875|       writing|\n",
      "| 288167|Extraction 2 (2023)|Action|Thriller| 1123| 0.11449999999999999|       writers|\n",
      "| 288167|Extraction 2 (2023)|Action|Thriller| 1122|0.027500000000000024| writer's life|\n",
      "| 288167|Extraction 2 (2023)|Action|Thriller| 1121|0.026249999999999996|  world war ii|\n",
      "| 288167|Extraction 2 (2023)|Action|Thriller| 1120| 0.04225000000000001|   world war i|\n",
      "| 288167|Extraction 2 (2023)|Action|Thriller| 1119| 0.08074999999999999|world politics|\n",
      "| 288167|Extraction 2 (2023)|Action|Thriller| 1118| 0.08100000000000002|     workplace|\n",
      "| 288167|Extraction 2 (2023)|Action|Thriller| 1117| 0.01824999999999999| working class|\n",
      "| 288167|Extraction 2 (2023)|Action|Thriller| 1116|               0.376|         women|\n",
      "| 288167|Extraction 2 (2023)|Action|Thriller| 1115|             0.09125|       wizards|\n",
      "| 288167|Extraction 2 (2023)|Action|Thriller| 1114|             0.34675|         witty|\n",
      "| 288167|Extraction 2 (2023)|Action|Thriller| 1113|             0.22275|       witches|\n",
      "| 288167|Extraction 2 (2023)|Action|Thriller| 1112| 0.13274999999999998|         witch|\n",
      "| 288167|Extraction 2 (2023)|Action|Thriller| 1111|0.029000000000000026|       wistful|\n",
      "| 288167|Extraction 2 (2023)|Action|Thriller| 1110|             0.03025|          wine|\n",
      "| 288167|Extraction 2 (2023)|Action|Thriller| 1109| 0.18924999999999997|    wilderness|\n",
      "+-------+-------------------+---------------+-----+--------------------+--------------+\n",
      "only showing top 20 rows\n",
      "\n"
     ]
    },
    {
     "name": "stderr",
     "output_type": "stream",
     "text": [
      "                                                                                \r"
     ]
    }
   ],
   "source": [
    "df_4_2 = spark.sql(\n",
    "    \"\"\"\n",
    "        SELECT DISTINCT\n",
    "            m.movieId, \n",
    "            m.title, \n",
    "            m.genres, \n",
    "            gs.tagId, \n",
    "            gs.relevance, \n",
    "            gt.tag\n",
    "        FROM\n",
    "            movies m\n",
    "        INNER JOIN\n",
    "            genome_scores gs\n",
    "        ON\n",
    "            m.movieId = gs.movieId\n",
    "        INNER JOIN\n",
    "            genome_tags gt\n",
    "        ON\n",
    "            gs.tagId = gt.tagId\n",
    "        ORDER BY\n",
    "            movieId DESC,\n",
    "            tagId DESC\n",
    "    \"\"\"\n",
    ")\n",
    "df_4_2.show()"
   ]
  },
  {
   "cell_type": "code",
   "execution_count": 31,
   "metadata": {},
   "outputs": [
    {
     "name": "stderr",
     "output_type": "stream",
     "text": [
      "[Stage 74:======================================================> (44 + 1) / 45]\r"
     ]
    },
    {
     "name": "stdout",
     "output_type": "stream",
     "text": [
      "+-------+-------------------+---------------+-----+--------------------+--------------+\n",
      "|movieId|              title|         genres|tagId|           relevance|           tag|\n",
      "+-------+-------------------+---------------+-----+--------------------+--------------+\n",
      "| 288167|Extraction 2 (2023)|Action|Thriller| 1128|             0.03025|       zombies|\n",
      "| 288167|Extraction 2 (2023)|Action|Thriller| 1127| 0.11225000000000002|        zombie|\n",
      "| 288167|Extraction 2 (2023)|Action|Thriller| 1126|0.022749999999999992|          wwii|\n",
      "| 288167|Extraction 2 (2023)|Action|Thriller| 1125|0.029500000000000026|         wuxia|\n",
      "| 288167|Extraction 2 (2023)|Action|Thriller| 1124|             0.09875|       writing|\n",
      "| 288167|Extraction 2 (2023)|Action|Thriller| 1123| 0.11449999999999999|       writers|\n",
      "| 288167|Extraction 2 (2023)|Action|Thriller| 1122|0.027500000000000024| writer's life|\n",
      "| 288167|Extraction 2 (2023)|Action|Thriller| 1121|0.026249999999999996|  world war ii|\n",
      "| 288167|Extraction 2 (2023)|Action|Thriller| 1120| 0.04225000000000001|   world war i|\n",
      "| 288167|Extraction 2 (2023)|Action|Thriller| 1119| 0.08074999999999999|world politics|\n",
      "| 288167|Extraction 2 (2023)|Action|Thriller| 1118| 0.08100000000000002|     workplace|\n",
      "| 288167|Extraction 2 (2023)|Action|Thriller| 1117| 0.01824999999999999| working class|\n",
      "| 288167|Extraction 2 (2023)|Action|Thriller| 1116|               0.376|         women|\n",
      "| 288167|Extraction 2 (2023)|Action|Thriller| 1115|             0.09125|       wizards|\n",
      "| 288167|Extraction 2 (2023)|Action|Thriller| 1114|             0.34675|         witty|\n",
      "| 288167|Extraction 2 (2023)|Action|Thriller| 1113|             0.22275|       witches|\n",
      "| 288167|Extraction 2 (2023)|Action|Thriller| 1112| 0.13274999999999998|         witch|\n",
      "| 288167|Extraction 2 (2023)|Action|Thriller| 1111|0.029000000000000026|       wistful|\n",
      "| 288167|Extraction 2 (2023)|Action|Thriller| 1110|             0.03025|          wine|\n",
      "| 288167|Extraction 2 (2023)|Action|Thriller| 1109| 0.18924999999999997|    wilderness|\n",
      "+-------+-------------------+---------------+-----+--------------------+--------------+\n",
      "only showing top 20 rows\n",
      "\n"
     ]
    },
    {
     "name": "stderr",
     "output_type": "stream",
     "text": [
      "                                                                                \r"
     ]
    }
   ],
   "source": [
    "df_4_3 = spark.sql(\n",
    "    \"\"\"\n",
    "        SELECT DISTINCT\n",
    "            m.movieId,\n",
    "            m.title,\n",
    "            m.genres,\n",
    "            g.tagId,\n",
    "            g.relevance,\n",
    "            g.tag\n",
    "        FROM\n",
    "            movies m\n",
    "        INNER JOIN\n",
    "            (\n",
    "                SELECT\n",
    "                    gs.movieId,\n",
    "                    gs.tagId,\n",
    "                    gs.relevance,\n",
    "                    gt.tag\n",
    "                FROM\n",
    "                    genome_scores gs\n",
    "                INNER JOIN\n",
    "                    genome_tags gt\n",
    "                ON\n",
    "                    gs.tagId = gt.tagId\n",
    "            ) g\n",
    "        ON\n",
    "            m.movieId = g.movieId\n",
    "        ORDER BY\n",
    "            movieId DESC,\n",
    "            tagId DESC\n",
    "    \"\"\"\n",
    ")\n",
    "df_4_3.show()"
   ]
  },
  {
   "cell_type": "code",
   "execution_count": 38,
   "metadata": {},
   "outputs": [
    {
     "name": "stderr",
     "output_type": "stream",
     "text": [
      "[Stage 131:==============================>                        (11 + 9) / 20]\r"
     ]
    },
    {
     "name": "stdout",
     "output_type": "stream",
     "text": [
      "+-------+--------------------+-------------+------+------+------+------+----------+--------------------+-----+---------------+\n",
      "|movieId|               title|       genres|imdbId|tmdbId|userId|rating| timestamp|           relevance|tagId|            tag|\n",
      "+-------+--------------------+-------------+------+------+------+------+----------+--------------------+-----+---------------+\n",
      "|     12|Dracula: Dead and...|Comedy|Horror|112896| 12110| 34486|   3.5|1494535157|0.028249999999999997|    1|            007|\n",
      "|     12|Dracula: Dead and...|Comedy|Horror|112896| 12110| 34486|   3.5|1494535157|             0.03075|    2|   007 (series)|\n",
      "|     12|Dracula: Dead and...|Comedy|Horror|112896| 12110| 34486|   3.5|1494535157|0.025500000000000023|    3|   18th century|\n",
      "|     12|Dracula: Dead and...|Comedy|Horror|112896| 12110| 34486|   3.5|1494535157|0.028000000000000025|    4|          1920s|\n",
      "|     12|Dracula: Dead and...|Comedy|Horror|112896| 12110| 34486|   3.5|1494535157| 0.26475000000000004|    5|          1930s|\n",
      "|     12|Dracula: Dead and...|Comedy|Horror|112896| 12110| 34486|   3.5|1494535157|0.025500000000000023|    6|          1950s|\n",
      "|     12|Dracula: Dead and...|Comedy|Horror|112896| 12110| 34486|   3.5|1494535157| 0.01874999999999999|    7|          1960s|\n",
      "|     12|Dracula: Dead and...|Comedy|Horror|112896| 12110| 34486|   3.5|1494535157|             0.09175|    8|          1970s|\n",
      "|     12|Dracula: Dead and...|Comedy|Horror|112896| 12110| 34486|   3.5|1494535157|0.030500000000000027|    9|          1980s|\n",
      "|     12|Dracula: Dead and...|Comedy|Horror|112896| 12110| 34486|   3.5|1494535157|0.030000000000000027|   10|   19th century|\n",
      "|     12|Dracula: Dead and...|Comedy|Horror|112896| 12110| 34486|   3.5|1494535157|0.018500000000000016|   11|             3d|\n",
      "|     12|Dracula: Dead and...|Comedy|Horror|112896| 12110| 34486|   3.5|1494535157| 0.02350000000000002|   12|           70mm|\n",
      "|     12|Dracula: Dead and...|Comedy|Horror|112896| 12110| 34486|   3.5|1494535157|               0.059|   13|            80s|\n",
      "|     12|Dracula: Dead and...|Comedy|Horror|112896| 12110| 34486|   3.5|1494535157|0.006000000000000005|   14|           9/11|\n",
      "|     12|Dracula: Dead and...|Comedy|Horror|112896| 12110| 34486|   3.5|1494535157|0.003249999999999975|   15|        aardman|\n",
      "|     12|Dracula: Dead and...|Comedy|Horror|112896| 12110| 34486|   3.5|1494535157|0.024249999999999994|   16|aardman studios|\n",
      "|     12|Dracula: Dead and...|Comedy|Horror|112896| 12110| 34486|   3.5|1494535157|0.006249999999999978|   17|       abortion|\n",
      "|     12|Dracula: Dead and...|Comedy|Horror|112896| 12110| 34486|   3.5|1494535157|               0.386|   18|         absurd|\n",
      "|     12|Dracula: Dead and...|Comedy|Horror|112896| 12110| 34486|   3.5|1494535157|               0.131|   19|         action|\n",
      "|     12|Dracula: Dead and...|Comedy|Horror|112896| 12110| 34486|   3.5|1494535157| 0.09699999999999998|   20|  action packed|\n",
      "+-------+--------------------+-------------+------+------+------+------+----------+--------------------+-----+---------------+\n",
      "only showing top 20 rows\n",
      "\n"
     ]
    },
    {
     "name": "stderr",
     "output_type": "stream",
     "text": [
      "                                                                                \r"
     ]
    }
   ],
   "source": [
    "df_all = spark.sql(\n",
    "    \"\"\"\n",
    "        SELECT\n",
    "            m.movieId,\n",
    "            m.title,\n",
    "            m.genres,\n",
    "            l.imdbId,\n",
    "            l.tmdbId,\n",
    "            r.userId,\n",
    "            r.rating,\n",
    "            r.timestamp,\n",
    "            gs.relevance,\n",
    "            gs.tagId,\n",
    "            gt.tag\n",
    "        FROM\n",
    "            movies m\n",
    "        LEFT JOIN\n",
    "            links l\n",
    "        ON\n",
    "            m.movieId = l.movieId\n",
    "        LEFT JOIN\n",
    "            ratings r\n",
    "        ON\n",
    "            m.movieId = r.movieId\n",
    "        LEFT JOIN\n",
    "            genome_scores gs\n",
    "        ON\n",
    "            m.movieId = gs.movieId\n",
    "        LEFT JOIN\n",
    "            genome_tags gt\n",
    "        ON\n",
    "            gs.tagId = gt.tagId\n",
    "    \"\"\"\n",
    ")\n",
    "df_all.show()"
   ]
  },
  {
   "cell_type": "code",
   "execution_count": 6,
   "metadata": {},
   "outputs": [],
   "source": [
    "spark.stop()"
   ]
  },
  {
   "cell_type": "code",
   "execution_count": null,
   "metadata": {},
   "outputs": [],
   "source": []
  },
  {
   "cell_type": "code",
   "execution_count": null,
   "metadata": {},
   "outputs": [],
   "source": []
  }
 ],
 "metadata": {
  "kernelspec": {
   "display_name": "Python 3",
   "language": "python",
   "name": "python3"
  },
  "language_info": {
   "codemirror_mode": {
    "name": "ipython",
    "version": 3
   },
   "file_extension": ".py",
   "mimetype": "text/x-python",
   "name": "python",
   "nbconvert_exporter": "python",
   "pygments_lexer": "ipython3",
   "version": "3.12.1"
  },
  "orig_nbformat": 4
 },
 "nbformat": 4,
 "nbformat_minor": 2
}
